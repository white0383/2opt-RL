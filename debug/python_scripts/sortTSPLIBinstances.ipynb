{
 "cells": [
  {
   "cell_type": "code",
   "execution_count": 33,
   "metadata": {},
   "outputs": [
    {
     "name": "stdout",
     "output_type": "stream",
     "text": [
      "\"burma14\", \"ulysses16\", \"ulysses22\", \"att48\", \"eil51\", \"berlin52\", \"st70\", \"eil76\", \"pr76\", \"gr96\", \n",
      "\"rat99\", \"rd100\", \"kroA100\", \"kroB100\", \"kroC100\", \"kroD100\", \"kroE100\", \"eil101\", \"lin105\", \"pr107\", \n",
      "\"pr124\", \"bier127\", \"ch130\", \"xqf131\", \"pr136\", \"gr137\", \"pr144\", \"kroA150\", \"ch150\", \"kroB150\", \n",
      "\"pr152\", \"u159\", \"rat195\", \"d198\", \"kroA200\", \"kroB200\", \"gr202\", \"ts225\", \"tsp225\", \"pr226\", \n",
      "\"gr229\", \"xqg237\", \"gil262\", \"pr264\", \"a280\", \"pr299\", \"lin318\", \"linhp318\", \"pma343\", \"pka379\", \n",
      "\"rd400\", \"fl417\", \"pbn423\", \"gr431\", \"pr439\", \"pcb442\", \"d493\", \"att532\", \"ali535\", \"u574\", \n",
      "\"rat575\", \"p654\", \"d657\", \"xql662\", \"u724\", \"rat783\", \"pbd984\", \"dsj1000\", \"pr1002\", \"u1060\", \n",
      "\"vm1084\", \"pcb1173\", \"d1291\", \"rl1304\", \"rl1323\", \"dka1376\", \"nrw1379\", \"fl1400\", \"u1432\", \"fl1577\", \n",
      "\"d1655\", \"vm1748\", \"u1817\", \"rl1889\", \"d2103\", \"u2152\", \"u2319\", \"dea2382\", \"pr2392\", \"bch2762\", \n",
      "\"lsm2854\", \"dbj2924\", \"pcb3038\", \"pia3056\", \"dke3097\", \"lsn3119\", \"lta3140\", \"fdp3256\", \"beg3293\", \"dhb3386\", \n",
      "\"fjs3649\", \"fjr3672\", \"dlb3694\", \"ltb3729\", \"fl3795\", \"xqe3891\", \"xua3937\", \"dkc3938\", \"dkf3954\", \"fnl4461\", \n",
      "\"rl5915\", \"rl5934\", \"xsc6880\", \"pla7397\", \"lap7454\", \"ida8197\", \"dga9698\", \"xmc10150\", \"rl11849\", \"usa13509\", \n",
      "\"brd14051\", \"d15112\", \"d18512\", \"pla33810\", \"pla85900\", \n"
     ]
    }
   ],
   "source": [
    "import re\n",
    "\n",
    "TSPs = [\"a280\", \"eil51\", \"ida8197\", \"lin318\", \"pcb3038\", \"pr144\", \"rd100\", \"ulysses16\",\n",
    "\"ali535\", \"burma14\", \"dbj2924\", \"eil76\", \"gr137\", \"kroA100\", \"linhp318\", \"pcb442\", \"pr152\", \"rd400\", \"ts225\", \"ulysses22\",\n",
    "\"att48\", \"ch130\", \"dea2382\", \"fdp3256\", \"kroA150\", \"lsm2854\", \"pia3056\", \"pr226\", \"rl11849\", \"tsp225\", \"usa13509\",\n",
    "\"att532\", \"ch150\", \"dga9698\", \"fjr3672\", \"gr202\", \"kroA200\", \"lsn3119\", \"pka379\", \"pr2392\", \"rl1304\", \"vm1084\",\n",
    "\"d1291\", \"dhb3386\", \"fjs3649\", \"kroB100\", \"lta3140\", \"pla33810\", \"pr264\", \"rl1323\", \"u1060\", \"vm1748\",\n",
    "\"d15112\", \"dka1376\", \"fl1400\", \"gr229\", \"kroB150\", \"ltb3729\", \"pla7397\", \"pr299\", \"rl1889\", \"u1432\", \"xmc10150\",\n",
    "\"bch2762\", \"d1655\", \"dkc3938\", \"fl1577\", \"kroB200\", \"nrw1379\", \"pla85900\", \"pr439\", \"rl5915\", \"u159\", \"xqe3891\",\n",
    "\"beg3293\", \"d18512\", \"dke3097\", \"fl3795\", \"gr431\", \"kroC100\", \"p654\", \"pma343\", \"pr76\", \"rl5934\", \"u1817\", \"xqf131\",\n",
    "\"berlin52\", \"d198\", \"dkf3954\", \"fl417\", \"kroD100\", \"pr1002\", \"rat195\", \"u2152\", \"xqg237\",\n",
    "\"bier127\", \"d2103\", \"dlb3694\", \"fnl4461\", \"kroE100\", \"pbd984\", \"pr107\", \"rat575\", \"u2319\", \"xql662\",\n",
    "\"d493\", \"dsj1000\", \"gr96\", \"lap7454\", \"pbn423\", \"pr124\", \"rat783\", \"u574\", \"xsc6880\",\n",
    "\"brd14051\", \"d657\", \"eil101\", \"gil262\",\"lin105\", \"pcb1173\", \"pr136\", \"rat99\", \"st70\", \"u724\", \"xua3937\"]\n",
    "\n",
    "TSP_dic = {}\n",
    "for TSP in TSPs:\n",
    "    TSP_dic[TSP] = int(re.sub('\\D', '', TSP))\n",
    "    \n",
    "TSP_dic_sorted = sorted(TSP_dic.items(), key=lambda x: x[1])    \n",
    "\n",
    "TSPs_sorted = []\n",
    "for TSP in TSP_dic_sorted:\n",
    "    TSP_name = TSP[0]\n",
    "    TSPs_sorted.append('\\\"' + TSP[0] + '\\\"')\n",
    "    \n",
    "TSPs_rst_string = ''\n",
    "count = 0\n",
    "for TSP in TSPs_sorted:\n",
    "    TSPs_rst_string += TSP\n",
    "    TSPs_rst_string += ', '\n",
    "    count += 1\n",
    "    if(count == 10):\n",
    "        TSPs_rst_string += '\\n'\n",
    "        count = 0\n",
    "    \n",
    "print(TSPs_rst_string)\n",
    "    "
   ]
  },
  {
   "cell_type": "code",
   "execution_count": null,
   "metadata": {},
   "outputs": [],
   "source": []
  }
 ],
 "metadata": {
  "kernelspec": {
   "display_name": "Python 3",
   "language": "python",
   "name": "python3"
  },
  "language_info": {
   "codemirror_mode": {
    "name": "ipython",
    "version": 3
   },
   "file_extension": ".py",
   "mimetype": "text/x-python",
   "name": "python",
   "nbconvert_exporter": "python",
   "pygments_lexer": "ipython3",
   "version": "3.7.4"
  }
 },
 "nbformat": 4,
 "nbformat_minor": 2
}
